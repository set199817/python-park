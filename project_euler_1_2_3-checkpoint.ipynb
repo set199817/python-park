{
 "cells": [
  {
   "cell_type": "code",
   "execution_count": null,
   "metadata": {},
   "outputs": [],
   "source": [
    "#FizzBuzz\n",
    "\n",
    "for num in range(1, 101):\n",
    "    \n",
    "    strg = num\n",
    "    \n",
    "    if(num % 3 == 0):\n",
    "        strg = 'Fizz'\n",
    "    if(num % 5 == 0):\n",
    "        strg = 'Buzz'\n",
    "    if(num % 15 == 0):\n",
    "        strg = 'FizzBuzz'    \n",
    "    \n",
    "    print(strg)"
   ]
  },
  {
   "cell_type": "code",
   "execution_count": 4,
   "metadata": {},
   "outputs": [
    {
     "name": "stdout",
     "output_type": "stream",
     "text": [
      "234168\n"
     ]
    }
   ],
   "source": [
    "#ProjectEuler 1\n",
    "\n",
    "summ = 0\n",
    "\n",
    "for num in range(1, 1001):\n",
    "    if(num % 3 == 0 or num % 5 == 0):\n",
    "        summ += num\n",
    "        \n",
    "print(summ)\n",
    "        "
   ]
  },
  {
   "cell_type": "code",
   "execution_count": 16,
   "metadata": {},
   "outputs": [
    {
     "name": "stdout",
     "output_type": "stream",
     "text": [
      "4613732\n"
     ]
    }
   ],
   "source": [
    "#ProjectEuler 2\n",
    "\n",
    "first_num = 1\n",
    "second_num = 2\n",
    "summ = 0\n",
    "\n",
    "while(first_num <= 4000000):\n",
    "    if(first_num % 2 == 0):\n",
    "        summ += first_num\n",
    "    \n",
    "    buf = first_num\n",
    "    first_num = second_num\n",
    "    second_num += buf\n",
    "    \n",
    "\n",
    "print(summ)"
   ]
  },
  {
   "cell_type": "code",
   "execution_count": 27,
   "metadata": {},
   "outputs": [
    {
     "name": "stdout",
     "output_type": "stream",
     "text": [
      "906609\n"
     ]
    }
   ],
   "source": [
    "#ProjectEuler 3\n",
    "\n",
    "max_prod = 0\n",
    "\n",
    "for first_num in range(100, 1000):\n",
    "    for second_num in range(100, 1000):\n",
    "        prod = first_num * second_num\n",
    "        \n",
    "        if(str(prod)[::-1] == str(prod)):\n",
    "            if(prod > max_prod):\n",
    "                max_prod = prod            \n",
    "   \n",
    "print(max_prod)\n",
    "            "
   ]
  },
  {
   "cell_type": "code",
   "execution_count": null,
   "metadata": {},
   "outputs": [],
   "source": []
  }
 ],
 "metadata": {
  "kernelspec": {
   "display_name": "Python 3",
   "language": "python",
   "name": "python3"
  },
  "language_info": {
   "codemirror_mode": {
    "name": "ipython",
    "version": 3
   },
   "file_extension": ".py",
   "mimetype": "text/x-python",
   "name": "python",
   "nbconvert_exporter": "python",
   "pygments_lexer": "ipython3",
   "version": "3.6.2"
  }
 },
 "nbformat": 4,
 "nbformat_minor": 2
}
